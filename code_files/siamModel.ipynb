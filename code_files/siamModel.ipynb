{
 "cells": [
  {
   "cell_type": "code",
   "execution_count": 5,
   "metadata": {},
   "outputs": [
    {
     "name": "stdout",
     "output_type": "stream",
     "text": [
      "Requirement already satisfied: arcgis in /home/bikram/.local/lib/python3.8/site-packages (2.0.1)\n",
      "Requirement already satisfied: matplotlib in /home/bikram/.local/lib/python3.8/site-packages (from arcgis) (3.6.1)\n",
      "Requirement already satisfied: requests-gssapi in /home/bikram/.local/lib/python3.8/site-packages (from arcgis) (1.2.3)\n",
      "Requirement already satisfied: requests>=1.27.1 in /home/bikram/.local/lib/python3.8/site-packages (from arcgis) (2.28.1)\n",
      "Requirement already satisfied: geomet in /home/bikram/.local/lib/python3.8/site-packages (from arcgis) (1.0.0)\n",
      "Requirement already satisfied: lxml in /usr/lib/python3/dist-packages (from arcgis) (4.5.0)\n",
      "Requirement already satisfied: requests-oauthlib in /home/bikram/.local/lib/python3.8/site-packages (from arcgis) (1.3.1)\n",
      "Requirement already satisfied: python-certifi-win32 in /home/bikram/.local/lib/python3.8/site-packages (from arcgis) (1.6.1)\n",
      "Requirement already satisfied: requests-ntlm in /home/bikram/.local/lib/python3.8/site-packages (from arcgis) (1.1.0)\n",
      "Requirement already satisfied: lerc in /home/bikram/.local/lib/python3.8/site-packages (from arcgis) (0.1.0)\n",
      "Requirement already satisfied: requests-toolbelt in /home/bikram/.local/lib/python3.8/site-packages (from arcgis) (0.10.1)\n",
      "Requirement already satisfied: ujson>=3 in /home/bikram/.local/lib/python3.8/site-packages (from arcgis) (5.5.0)\n",
      "Requirement already satisfied: ipywidgets>=7 in /home/bikram/.local/lib/python3.8/site-packages (from arcgis) (8.0.2)\n",
      "Requirement already satisfied: widgetsnbextension>=3 in /home/bikram/.local/lib/python3.8/site-packages (from arcgis) (4.0.3)\n",
      "Requirement already satisfied: cryptography in /usr/lib/python3/dist-packages (from arcgis) (2.8)\n",
      "Requirement already satisfied: numpy>=1.16.2 in /home/bikram/.local/lib/python3.8/site-packages (from arcgis) (1.22.3)\n",
      "Requirement already satisfied: pyshp>=2 in /home/bikram/.local/lib/python3.8/site-packages (from arcgis) (2.3.1)\n",
      "Requirement already satisfied: urllib3 in /home/bikram/.local/lib/python3.8/site-packages (from arcgis) (1.26.12)\n",
      "Requirement already satisfied: cachetools in /home/bikram/.local/lib/python3.8/site-packages (from arcgis) (5.2.0)\n",
      "Requirement already satisfied: notebook in /home/bikram/.local/lib/python3.8/site-packages (from arcgis) (6.5.2)\n",
      "Requirement already satisfied: jupyterlab in /home/bikram/.local/lib/python3.8/site-packages (from arcgis) (3.5.0)\n",
      "Requirement already satisfied: six in /usr/lib/python3/dist-packages (from arcgis) (1.14.0)\n",
      "Requirement already satisfied: pandas>=1.3.5 in /home/bikram/.local/lib/python3.8/site-packages (from arcgis) (1.4.2)\n",
      "Requirement already satisfied: keyring>=23.3.* in /home/bikram/.local/lib/python3.8/site-packages (from arcgis) (23.11.0)\n",
      "Requirement already satisfied: jupyter-client<=6.1.12 in /home/bikram/.local/lib/python3.8/site-packages (from arcgis) (6.1.12)\n",
      "Requirement already satisfied: pillow>=6.2.0 in /home/bikram/.local/lib/python3.8/site-packages (from matplotlib->arcgis) (9.2.0)\n",
      "Requirement already satisfied: pyparsing>=2.2.1 in /usr/lib/python3/dist-packages (from matplotlib->arcgis) (2.4.6)\n",
      "Requirement already satisfied: packaging>=20.0 in /home/bikram/.local/lib/python3.8/site-packages (from matplotlib->arcgis) (21.3)\n",
      "Requirement already satisfied: fonttools>=4.22.0 in /home/bikram/.local/lib/python3.8/site-packages (from matplotlib->arcgis) (4.38.0)\n",
      "Requirement already satisfied: cycler>=0.10 in /usr/lib/python3/dist-packages (from matplotlib->arcgis) (0.10.0)\n",
      "Requirement already satisfied: contourpy>=1.0.1 in /home/bikram/.local/lib/python3.8/site-packages (from matplotlib->arcgis) (1.0.5)\n",
      "Requirement already satisfied: python-dateutil>=2.7 in /home/bikram/.local/lib/python3.8/site-packages (from matplotlib->arcgis) (2.8.2)\n",
      "Requirement already satisfied: kiwisolver>=1.0.1 in /usr/lib/python3/dist-packages (from matplotlib->arcgis) (1.0.1)\n",
      "Requirement already satisfied: gssapi in /home/bikram/.local/lib/python3.8/site-packages (from requests-gssapi->arcgis) (1.8.2)\n",
      "Requirement already satisfied: charset-normalizer<3,>=2 in /home/bikram/.local/lib/python3.8/site-packages (from requests>=1.27.1->arcgis) (2.1.1)\n",
      "Requirement already satisfied: certifi>=2017.4.17 in /home/bikram/.local/lib/python3.8/site-packages (from requests>=1.27.1->arcgis) (2022.5.18.1)\n",
      "Requirement already satisfied: idna<4,>=2.5 in /usr/lib/python3/dist-packages (from requests>=1.27.1->arcgis) (2.8)\n",
      "Requirement already satisfied: click in /home/bikram/.local/lib/python3.8/site-packages (from geomet->arcgis) (8.1.3)\n",
      "Requirement already satisfied: oauthlib>=3.0.0 in /usr/lib/python3/dist-packages (from requests-oauthlib->arcgis) (3.1.0)\n",
      "Requirement already satisfied: setuptools-scm in /home/bikram/.local/lib/python3.8/site-packages (from python-certifi-win32->arcgis) (7.0.5)\n",
      "Requirement already satisfied: wrapt>=1.10.4 in /home/bikram/.local/lib/python3.8/site-packages (from python-certifi-win32->arcgis) (1.14.1)\n",
      "Requirement already satisfied: ntlm-auth>=1.0.2 in /home/bikram/.local/lib/python3.8/site-packages (from requests-ntlm->arcgis) (1.5.0)\n",
      "Requirement already satisfied: ipykernel>=4.5.1 in /home/bikram/.local/lib/python3.8/site-packages (from ipywidgets>=7->arcgis) (6.17.0)\n",
      "Requirement already satisfied: ipython>=6.1.0 in /home/bikram/.local/lib/python3.8/site-packages (from ipywidgets>=7->arcgis) (8.5.0)\n",
      "Requirement already satisfied: jupyterlab-widgets~=3.0 in /home/bikram/.local/lib/python3.8/site-packages (from ipywidgets>=7->arcgis) (3.0.3)\n",
      "Requirement already satisfied: traitlets>=4.3.1 in /home/bikram/.local/lib/python3.8/site-packages (from ipywidgets>=7->arcgis) (5.5.0)\n",
      "Requirement already satisfied: nbclassic>=0.4.7 in /home/bikram/.local/lib/python3.8/site-packages (from notebook->arcgis) (0.4.8)\n",
      "Requirement already satisfied: ipython-genutils in /usr/lib/python3/dist-packages (from notebook->arcgis) (0.2.0)\n",
      "Requirement already satisfied: terminado>=0.8.3 in /home/bikram/.local/lib/python3.8/site-packages (from notebook->arcgis) (0.17.0)\n",
      "Requirement already satisfied: pyzmq>=17 in /home/bikram/.local/lib/python3.8/site-packages (from notebook->arcgis) (24.0.1)\n",
      "Requirement already satisfied: argon2-cffi in /home/bikram/.local/lib/python3.8/site-packages (from notebook->arcgis) (21.3.0)\n",
      "Requirement already satisfied: jinja2 in /usr/lib/python3/dist-packages (from notebook->arcgis) (2.10.1)\n",
      "Requirement already satisfied: tornado>=6.1 in /home/bikram/.local/lib/python3.8/site-packages (from notebook->arcgis) (6.2)\n",
      "Requirement already satisfied: nbformat in /usr/lib/python3/dist-packages (from notebook->arcgis) (5.0.4)\n",
      "Requirement already satisfied: prometheus-client in /home/bikram/.local/lib/python3.8/site-packages (from notebook->arcgis) (0.15.0)\n",
      "Requirement already satisfied: Send2Trash>=1.8.0 in /home/bikram/.local/lib/python3.8/site-packages (from notebook->arcgis) (1.8.0)\n",
      "Requirement already satisfied: nest-asyncio>=1.5 in /home/bikram/.local/lib/python3.8/site-packages (from notebook->arcgis) (1.5.6)\n",
      "Requirement already satisfied: jupyter-core>=4.6.1 in /home/bikram/.local/lib/python3.8/site-packages (from notebook->arcgis) (4.11.2)\n",
      "Requirement already satisfied: nbconvert>=5 in /home/bikram/.local/lib/python3.8/site-packages (from notebook->arcgis) (7.2.5)\n",
      "Requirement already satisfied: jupyter-server<3,>=1.16.0 in /home/bikram/.local/lib/python3.8/site-packages (from jupyterlab->arcgis) (1.23.2)\n",
      "Requirement already satisfied: tomli in /home/bikram/.local/lib/python3.8/site-packages (from jupyterlab->arcgis) (2.0.1)\n",
      "Requirement already satisfied: jupyterlab-server~=2.10 in /home/bikram/.local/lib/python3.8/site-packages (from jupyterlab->arcgis) (2.16.3)\n",
      "Requirement already satisfied: pytz>=2020.1 in /home/bikram/.local/lib/python3.8/site-packages (from pandas>=1.3.5->arcgis) (2022.1)\n",
      "Requirement already satisfied: jeepney>=0.4.2; sys_platform == \"linux\" in /home/bikram/.local/lib/python3.8/site-packages (from keyring>=23.3.*->arcgis) (0.8.0)\n",
      "Requirement already satisfied: importlib-metadata>=4.11.4; python_version < \"3.12\" in /home/bikram/.local/lib/python3.8/site-packages (from keyring>=23.3.*->arcgis) (5.0.0)\n",
      "Requirement already satisfied: jaraco.classes in /home/bikram/.local/lib/python3.8/site-packages (from keyring>=23.3.*->arcgis) (3.2.3)\n",
      "Requirement already satisfied: SecretStorage>=3.2; sys_platform == \"linux\" in /home/bikram/.local/lib/python3.8/site-packages (from keyring>=23.3.*->arcgis) (3.3.3)\n",
      "Requirement already satisfied: decorator in /usr/lib/python3/dist-packages (from gssapi->requests-gssapi->arcgis) (4.4.2)\n",
      "Requirement already satisfied: setuptools in /usr/lib/python3/dist-packages (from setuptools-scm->python-certifi-win32->arcgis) (45.2.0)\n",
      "Requirement already satisfied: typing-extensions in /home/bikram/.local/lib/python3.8/site-packages (from setuptools-scm->python-certifi-win32->arcgis) (4.4.0)\n",
      "Requirement already satisfied: matplotlib-inline>=0.1 in /home/bikram/.local/lib/python3.8/site-packages (from ipykernel>=4.5.1->ipywidgets>=7->arcgis) (0.1.6)\n",
      "Requirement already satisfied: debugpy>=1.0 in /home/bikram/.local/lib/python3.8/site-packages (from ipykernel>=4.5.1->ipywidgets>=7->arcgis) (1.6.3)\n",
      "Requirement already satisfied: psutil in /home/bikram/.local/lib/python3.8/site-packages (from ipykernel>=4.5.1->ipywidgets>=7->arcgis) (5.9.0)\n",
      "Requirement already satisfied: prompt-toolkit<3.1.0,>3.0.1 in /home/bikram/.local/lib/python3.8/site-packages (from ipython>=6.1.0->ipywidgets>=7->arcgis) (3.0.31)\n",
      "Requirement already satisfied: pygments>=2.4.0 in /home/bikram/.local/lib/python3.8/site-packages (from ipython>=6.1.0->ipywidgets>=7->arcgis) (2.11.2)\n",
      "Requirement already satisfied: pexpect>4.3; sys_platform != \"win32\" in /usr/lib/python3/dist-packages (from ipython>=6.1.0->ipywidgets>=7->arcgis) (4.6.0)\n",
      "Requirement already satisfied: jedi>=0.16 in /home/bikram/.local/lib/python3.8/site-packages (from ipython>=6.1.0->ipywidgets>=7->arcgis) (0.18.1)\n",
      "Requirement already satisfied: stack-data in /home/bikram/.local/lib/python3.8/site-packages (from ipython>=6.1.0->ipywidgets>=7->arcgis) (0.5.1)\n",
      "Requirement already satisfied: backcall in /home/bikram/.local/lib/python3.8/site-packages (from ipython>=6.1.0->ipywidgets>=7->arcgis) (0.2.0)\n",
      "Requirement already satisfied: pickleshare in /home/bikram/.local/lib/python3.8/site-packages (from ipython>=6.1.0->ipywidgets>=7->arcgis) (0.7.5)\n",
      "Requirement already satisfied: notebook-shim>=0.1.0 in /home/bikram/.local/lib/python3.8/site-packages (from nbclassic>=0.4.7->notebook->arcgis) (0.2.2)\n",
      "Requirement already satisfied: ptyprocess; os_name != \"nt\" in /home/bikram/.local/lib/python3.8/site-packages (from terminado>=0.8.3->notebook->arcgis) (0.7.0)\n",
      "Requirement already satisfied: argon2-cffi-bindings in /home/bikram/.local/lib/python3.8/site-packages (from argon2-cffi->notebook->arcgis) (21.2.0)\n",
      "Requirement already satisfied: mistune<3,>=2.0.3 in /home/bikram/.local/lib/python3.8/site-packages (from nbconvert>=5->notebook->arcgis) (2.0.4)\n",
      "Requirement already satisfied: tinycss2 in /home/bikram/.local/lib/python3.8/site-packages (from nbconvert>=5->notebook->arcgis) (1.2.1)\n",
      "Requirement already satisfied: nbclient>=0.5.0 in /home/bikram/.local/lib/python3.8/site-packages (from nbconvert>=5->notebook->arcgis) (0.7.0)\n",
      "Requirement already satisfied: defusedxml in /home/bikram/.local/lib/python3.8/site-packages (from nbconvert>=5->notebook->arcgis) (0.7.1)\n",
      "Requirement already satisfied: pandocfilters>=1.4.1 in /home/bikram/.local/lib/python3.8/site-packages (from nbconvert>=5->notebook->arcgis) (1.5.0)\n",
      "Requirement already satisfied: markupsafe>=2.0 in /home/bikram/.local/lib/python3.8/site-packages (from nbconvert>=5->notebook->arcgis) (2.1.1)\n",
      "Requirement already satisfied: beautifulsoup4 in /usr/lib/python3/dist-packages (from nbconvert>=5->notebook->arcgis) (4.8.2)\n",
      "Requirement already satisfied: jupyterlab-pygments in /home/bikram/.local/lib/python3.8/site-packages (from nbconvert>=5->notebook->arcgis) (0.2.2)\n",
      "Requirement already satisfied: bleach in /home/bikram/.local/lib/python3.8/site-packages (from nbconvert>=5->notebook->arcgis) (5.0.1)\n",
      "Requirement already satisfied: anyio<4,>=3.1.0 in /home/bikram/.local/lib/python3.8/site-packages (from jupyter-server<3,>=1.16.0->jupyterlab->arcgis) (3.6.2)\n",
      "Requirement already satisfied: websocket-client in /home/bikram/.local/lib/python3.8/site-packages (from jupyter-server<3,>=1.16.0->jupyterlab->arcgis) (1.4.2)\n",
      "Requirement already satisfied: jsonschema>=3.0.1 in /usr/lib/python3/dist-packages (from jupyterlab-server~=2.10->jupyterlab->arcgis) (3.2.0)\n",
      "Requirement already satisfied: babel in /home/bikram/.local/lib/python3.8/site-packages (from jupyterlab-server~=2.10->jupyterlab->arcgis) (2.11.0)\n",
      "Requirement already satisfied: json5 in /home/bikram/.local/lib/python3.8/site-packages (from jupyterlab-server~=2.10->jupyterlab->arcgis) (0.9.10)\n",
      "Requirement already satisfied: zipp>=0.5 in /usr/lib/python3/dist-packages (from importlib-metadata>=4.11.4; python_version < \"3.12\"->keyring>=23.3.*->arcgis) (1.0.0)\n",
      "Requirement already satisfied: more-itertools in /usr/lib/python3/dist-packages (from jaraco.classes->keyring>=23.3.*->arcgis) (4.2.0)\n",
      "Requirement already satisfied: wcwidth in /home/bikram/.local/lib/python3.8/site-packages (from prompt-toolkit<3.1.0,>3.0.1->ipython>=6.1.0->ipywidgets>=7->arcgis) (0.2.5)\n",
      "Requirement already satisfied: parso<0.9.0,>=0.8.0 in /home/bikram/.local/lib/python3.8/site-packages (from jedi>=0.16->ipython>=6.1.0->ipywidgets>=7->arcgis) (0.8.3)\n",
      "Requirement already satisfied: pure-eval in /home/bikram/.local/lib/python3.8/site-packages (from stack-data->ipython>=6.1.0->ipywidgets>=7->arcgis) (0.2.2)\n",
      "Requirement already satisfied: executing in /home/bikram/.local/lib/python3.8/site-packages (from stack-data->ipython>=6.1.0->ipywidgets>=7->arcgis) (1.1.1)\n",
      "Requirement already satisfied: asttokens in /home/bikram/.local/lib/python3.8/site-packages (from stack-data->ipython>=6.1.0->ipywidgets>=7->arcgis) (2.0.8)\n",
      "Requirement already satisfied: cffi>=1.0.1 in /home/bikram/.local/lib/python3.8/site-packages (from argon2-cffi-bindings->argon2-cffi->notebook->arcgis) (1.15.1)\n",
      "Requirement already satisfied: webencodings>=0.4 in /usr/lib/python3/dist-packages (from tinycss2->nbconvert>=5->notebook->arcgis) (0.5.1)\n",
      "Requirement already satisfied: sniffio>=1.1 in /home/bikram/.local/lib/python3.8/site-packages (from anyio<4,>=3.1.0->jupyter-server<3,>=1.16.0->jupyterlab->arcgis) (1.3.0)\n",
      "Requirement already satisfied: pycparser in /home/bikram/.local/lib/python3.8/site-packages (from cffi>=1.0.1->argon2-cffi-bindings->argon2-cffi->notebook->arcgis) (2.21)\n"
     ]
    }
   ],
   "source": [
    "!python3.8 -m pip install arcgis"
   ]
  },
  {
   "cell_type": "code",
   "execution_count": 6,
   "metadata": {},
   "outputs": [
    {
     "name": "stderr",
     "output_type": "stream",
     "text": [
      "2022-11-15 09:35:07.964233: E tensorflow/stream_executor/cuda/cuda_blas.cc:2981] Unable to register cuBLAS factory: Attempting to register factory for plugin cuBLAS when one has already been registered\n",
      "2022-11-15 09:35:08.301116: W tensorflow/stream_executor/platform/default/dso_loader.cc:64] Could not load dynamic library 'libnvinfer.so.7'; dlerror: libnvinfer.so.7: cannot open shared object file: No such file or directory\n",
      "2022-11-15 09:35:08.301163: W tensorflow/stream_executor/platform/default/dso_loader.cc:64] Could not load dynamic library 'libnvinfer_plugin.so.7'; dlerror: libnvinfer_plugin.so.7: cannot open shared object file: No such file or directory\n",
      "2022-11-15 09:35:08.301167: W tensorflow/compiler/tf2tensorrt/utils/py_utils.cc:38] TF-TRT Warning: Cannot dlopen some TensorRT libraries. If you would like to use Nvidia GPU with TensorRT, please make sure the missing libraries mentioned above are installed properly.\n",
      "2022-11-15 09:35:08.633312: W tensorflow/stream_executor/platform/default/dso_loader.cc:64] Could not load dynamic library 'libcudnn.so.8'; dlerror: libcudnn.so.8: cannot open shared object file: No such file or directory\n",
      "2022-11-15 09:35:08.633331: W tensorflow/core/common_runtime/gpu/gpu_device.cc:1934] Cannot dlopen some GPU libraries. Please make sure the missing libraries mentioned above are installed properly if you would like to use GPU. Follow the guide at https://www.tensorflow.org/install/gpu for how to download and setup the required libraries for your platform.\n",
      "Skipping registering GPU devices...\n"
     ]
    },
    {
     "name": "stdout",
     "output_type": "stream",
     "text": [
      "torch not available\n",
      "\n"
     ]
    }
   ],
   "source": [
    "from arcgis.learn import SiamMask"
   ]
  },
  {
   "cell_type": "code",
   "execution_count": 3,
   "metadata": {},
   "outputs": [
    {
     "ename": "Exception",
     "evalue": "Traceback (most recent call last):\n\n  File \"/home/bikram/.local/lib/python3.8/site-packages/arcgis/learn/models/_siammask_utils.py\", line 3, in <module>\n    from fastai.basic_train import LearnerCallback\n\nModuleNotFoundError: No module named 'fastai'\n\n\nDuring handling of the above exception, another exception occurred:\n\n\nTraceback (most recent call last):\n\n  File \"/home/bikram/.local/lib/python3.8/site-packages/arcgis/learn/models/_siammask.py\", line 15, in <module>\n    from ._siammask_utils import (\n\n  File \"/home/bikram/.local/lib/python3.8/site-packages/arcgis/learn/models/_siammask_utils.py\", line 20, in <module>\n    traceback.format_exception(type(e), e, e.__traceback__)\n\nNameError: name 'traceback' is not defined\n \n\n\n ",
     "output_type": "error",
     "traceback": [
      "\u001b[0;31m---------------------------------------------------------------------------\u001b[0m",
      "\u001b[0;31mException\u001b[0m                                 Traceback (most recent call last)",
      "Cell \u001b[0;32mIn [3], line 1\u001b[0m\n\u001b[0;32m----> 1\u001b[0m ot \u001b[38;5;241m=\u001b[39m \u001b[43mSiamMask\u001b[49m\u001b[43m(\u001b[49m\u001b[43m)\u001b[49m\n",
      "File \u001b[0;32m~/.local/lib/python3.8/site-packages/arcgis/learn/models/_siammask.py:101\u001b[0m, in \u001b[0;36mSiamMask.__init__\u001b[0;34m(self, data, **kwargs)\u001b[0m\n\u001b[1;32m     <a href='file:///home/bikram/.local/lib/python3.8/site-packages/arcgis/learn/models/_siammask.py?line=97'>98</a>\u001b[0m \u001b[39mdef\u001b[39;00m \u001b[39m__init__\u001b[39m(\u001b[39mself\u001b[39m, data\u001b[39m=\u001b[39m\u001b[39mNone\u001b[39;00m, \u001b[39m*\u001b[39m\u001b[39m*\u001b[39mkwargs):\n\u001b[1;32m    <a href='file:///home/bikram/.local/lib/python3.8/site-packages/arcgis/learn/models/_siammask.py?line=99'>100</a>\u001b[0m     \u001b[39mif\u001b[39;00m \u001b[39mnot\u001b[39;00m HAS_FASTAI:\n\u001b[0;32m--> <a href='file:///home/bikram/.local/lib/python3.8/site-packages/arcgis/learn/models/_siammask.py?line=100'>101</a>\u001b[0m         raise_fastai_import_error(\n\u001b[1;32m    <a href='file:///home/bikram/.local/lib/python3.8/site-packages/arcgis/learn/models/_siammask.py?line=101'>102</a>\u001b[0m             import_exception\u001b[39m=\u001b[39;49mimport_exception, message\u001b[39m=\u001b[39;49m\u001b[39m\"\u001b[39;49m\u001b[39m\"\u001b[39;49m, installation_steps\u001b[39m=\u001b[39;49m\u001b[39m\"\u001b[39;49m\u001b[39m \u001b[39;49m\u001b[39m\"\u001b[39;49m\n\u001b[1;32m    <a href='file:///home/bikram/.local/lib/python3.8/site-packages/arcgis/learn/models/_siammask.py?line=102'>103</a>\u001b[0m         )\n\u001b[1;32m    <a href='file:///home/bikram/.local/lib/python3.8/site-packages/arcgis/learn/models/_siammask.py?line=104'>105</a>\u001b[0m     \u001b[39mself\u001b[39m\u001b[39m.\u001b[39m_is_multispectral \u001b[39m=\u001b[39m \u001b[39mFalse\u001b[39;00m\n\u001b[1;32m    <a href='file:///home/bikram/.local/lib/python3.8/site-packages/arcgis/learn/models/_siammask.py?line=106'>107</a>\u001b[0m     pretrained_path \u001b[39m=\u001b[39m kwargs\u001b[39m.\u001b[39mget(\u001b[39m\"\u001b[39m\u001b[39mpretrained_path\u001b[39m\u001b[39m\"\u001b[39m, \u001b[39mNone\u001b[39;00m)\n",
      "File \u001b[0;32m~/.local/lib/python3.8/site-packages/arcgis/learn/_utils/env.py:149\u001b[0m, in \u001b[0;36mraise_fastai_import_error\u001b[0;34m(import_exception, installation_steps, message)\u001b[0m\n\u001b[1;32m    <a href='file:///home/bikram/.local/lib/python3.8/site-packages/arcgis/learn/_utils/env.py?line=146'>147</a>\u001b[0m \u001b[39mif\u001b[39;00m message \u001b[39mis\u001b[39;00m \u001b[39mNone\u001b[39;00m:\n\u001b[1;32m    <a href='file:///home/bikram/.local/lib/python3.8/site-packages/arcgis/learn/_utils/env.py?line=147'>148</a>\u001b[0m     message \u001b[39m=\u001b[39m \u001b[39m\"\u001b[39m\u001b[39mThis module requires fastai, PyTorch, torchvision and scikit-image as its dependencies.\u001b[39m\u001b[39m\"\u001b[39m\n\u001b[0;32m--> <a href='file:///home/bikram/.local/lib/python3.8/site-packages/arcgis/learn/_utils/env.py?line=148'>149</a>\u001b[0m \u001b[39mraise\u001b[39;00m \u001b[39mException\u001b[39;00m(\u001b[39mf\u001b[39m\u001b[39m\"\"\"\u001b[39m\u001b[39m{\u001b[39;00mimport_exception\u001b[39m}\u001b[39;00m\u001b[39m \u001b[39m\u001b[39m\\n\u001b[39;00m\u001b[39m\\n\u001b[39;00m\u001b[39m{\u001b[39;00mmessage\u001b[39m}\u001b[39;00m\u001b[39m\\n\u001b[39;00m\u001b[39m{\u001b[39;00minstallation_steps\u001b[39m}\u001b[39;00m\u001b[39m\"\"\"\u001b[39m)\n",
      "\u001b[0;31mException\u001b[0m: Traceback (most recent call last):\n\n  File \"/home/bikram/.local/lib/python3.8/site-packages/arcgis/learn/models/_siammask_utils.py\", line 3, in <module>\n    from fastai.basic_train import LearnerCallback\n\nModuleNotFoundError: No module named 'fastai'\n\n\nDuring handling of the above exception, another exception occurred:\n\n\nTraceback (most recent call last):\n\n  File \"/home/bikram/.local/lib/python3.8/site-packages/arcgis/learn/models/_siammask.py\", line 15, in <module>\n    from ._siammask_utils import (\n\n  File \"/home/bikram/.local/lib/python3.8/site-packages/arcgis/learn/models/_siammask_utils.py\", line 20, in <module>\n    traceback.format_exception(type(e), e, e.__traceback__)\n\nNameError: name 'traceback' is not defined\n \n\n\n "
     ]
    }
   ],
   "source": []
  },
  {
   "cell_type": "code",
   "execution_count": 3,
   "metadata": {},
   "outputs": [
    {
     "name": "stdout",
     "output_type": "stream",
     "text": [
      "Collecting https://github.com/fastai/fastai1/archive/master.zip\n",
      "  Downloading https://github.com/fastai/fastai1/archive/master.zip\n",
      "\u001b[K     / 132.1 MB 63 kB/ss\n",
      "\u001b[?25hRequirement already satisfied: Pillow in /home/bikram/.local/lib/python3.8/site-packages (from fastai==1.0.64.dev0) (9.2.0)\n",
      "Requirement already satisfied: beautifulsoup4 in /usr/lib/python3/dist-packages (from fastai==1.0.64.dev0) (4.8.2)\n",
      "Collecting bottleneck\n",
      "  Downloading Bottleneck-1.3.5-cp38-cp38-manylinux_2_5_x86_64.manylinux1_x86_64.manylinux_2_17_x86_64.manylinux2014_x86_64.whl (355 kB)\n",
      "\u001b[K     |████████████████████████████████| 355 kB 16.8 MB/s eta 0:00:01\n",
      "\u001b[?25hRequirement already satisfied: fastprogress>=0.2.1 in /home/bikram/.local/lib/python3.8/site-packages (from fastai==1.0.64.dev0) (1.0.3)\n",
      "Requirement already satisfied: matplotlib in /home/bikram/.local/lib/python3.8/site-packages (from fastai==1.0.64.dev0) (3.6.1)\n",
      "Collecting numexpr\n",
      "  Downloading numexpr-2.8.4-cp38-cp38-manylinux_2_17_x86_64.manylinux2014_x86_64.whl (381 kB)\n",
      "\u001b[K     |████████████████████████████████| 381 kB 203.4 MB/s eta 0:00:01\n",
      "\u001b[?25hRequirement already satisfied: numpy>=1.15 in /home/bikram/.local/lib/python3.8/site-packages (from fastai==1.0.64.dev0) (1.22.3)\n",
      "Collecting nvidia-ml-py3\n",
      "  Downloading nvidia-ml-py3-7.352.0.tar.gz (19 kB)\n",
      "Requirement already satisfied: packaging in /home/bikram/.local/lib/python3.8/site-packages (from fastai==1.0.64.dev0) (21.3)\n",
      "Requirement already satisfied: pandas in /home/bikram/.local/lib/python3.8/site-packages (from fastai==1.0.64.dev0) (1.4.2)\n",
      "Requirement already satisfied: pyyaml in /usr/lib/python3/dist-packages (from fastai==1.0.64.dev0) (5.3.1)\n",
      "Requirement already satisfied: requests in /home/bikram/.local/lib/python3.8/site-packages (from fastai==1.0.64.dev0) (2.28.1)\n",
      "Requirement already satisfied: scipy in /home/bikram/.local/lib/python3.8/site-packages (from fastai==1.0.64.dev0) (1.9.3)\n",
      "Requirement already satisfied: torch>=1.0.0 in /home/bikram/.local/lib/python3.8/site-packages (from fastai==1.0.64.dev0) (1.7.1)\n",
      "Requirement already satisfied: torchvision in /home/bikram/.local/lib/python3.8/site-packages (from fastai==1.0.64.dev0) (0.8.2)\n",
      "Requirement already satisfied: pyparsing>=2.2.1 in /usr/lib/python3/dist-packages (from matplotlib->fastai==1.0.64.dev0) (2.4.6)\n",
      "Requirement already satisfied: contourpy>=1.0.1 in /home/bikram/.local/lib/python3.8/site-packages (from matplotlib->fastai==1.0.64.dev0) (1.0.5)\n",
      "Requirement already satisfied: python-dateutil>=2.7 in /home/bikram/.local/lib/python3.8/site-packages (from matplotlib->fastai==1.0.64.dev0) (2.8.2)\n",
      "Requirement already satisfied: kiwisolver>=1.0.1 in /usr/lib/python3/dist-packages (from matplotlib->fastai==1.0.64.dev0) (1.0.1)\n",
      "Requirement already satisfied: cycler>=0.10 in /usr/lib/python3/dist-packages (from matplotlib->fastai==1.0.64.dev0) (0.10.0)\n",
      "Requirement already satisfied: fonttools>=4.22.0 in /home/bikram/.local/lib/python3.8/site-packages (from matplotlib->fastai==1.0.64.dev0) (4.38.0)\n",
      "Requirement already satisfied: pytz>=2020.1 in /home/bikram/.local/lib/python3.8/site-packages (from pandas->fastai==1.0.64.dev0) (2022.1)\n",
      "Requirement already satisfied: urllib3<1.27,>=1.21.1 in /home/bikram/.local/lib/python3.8/site-packages (from requests->fastai==1.0.64.dev0) (1.26.12)\n",
      "Requirement already satisfied: idna<4,>=2.5 in /usr/lib/python3/dist-packages (from requests->fastai==1.0.64.dev0) (2.8)\n",
      "Requirement already satisfied: certifi>=2017.4.17 in /home/bikram/.local/lib/python3.8/site-packages (from requests->fastai==1.0.64.dev0) (2022.5.18.1)\n",
      "Requirement already satisfied: charset-normalizer<3,>=2 in /home/bikram/.local/lib/python3.8/site-packages (from requests->fastai==1.0.64.dev0) (2.1.1)\n",
      "Requirement already satisfied: typing-extensions in /home/bikram/.local/lib/python3.8/site-packages (from torch>=1.0.0->fastai==1.0.64.dev0) (4.4.0)\n",
      "Requirement already satisfied: six>=1.5 in /usr/lib/python3/dist-packages (from python-dateutil>=2.7->matplotlib->fastai==1.0.64.dev0) (1.14.0)\n",
      "Building wheels for collected packages: fastai, nvidia-ml-py3\n",
      "  Building wheel for fastai (setup.py) ... \u001b[?25ldone\n",
      "\u001b[?25h  Created wheel for fastai: filename=fastai-1.0.64.dev0-py3-none-any.whl size=241877 sha256=514d041728ae7948ad1dcf2f656a9f9177da309c36af86936d6883676d352d5c\n",
      "  Stored in directory: /tmp/pip-ephem-wheel-cache-wenxt85y/wheels/7d/12/0a/6a9635e4c0d57914b3ea11de44893ce877696a2e3e400836b2\n",
      "  Building wheel for nvidia-ml-py3 (setup.py) ... \u001b[?25ldone\n",
      "\u001b[?25h  Created wheel for nvidia-ml-py3: filename=nvidia_ml_py3-7.352.0-py3-none-any.whl size=19189 sha256=375f7348a4fc97c50ef368a9511302a7db0007540574e772c9c4f846e4ccc257\n",
      "  Stored in directory: /home/bikram/.cache/pip/wheels/b9/b1/68/cb4feab29709d4155310d29a421389665dcab9eb3b679b527b\n",
      "Successfully built fastai nvidia-ml-py3\n",
      "Installing collected packages: bottleneck, numexpr, nvidia-ml-py3, fastai\n",
      "Successfully installed bottleneck-1.3.5 fastai-1.0.64.dev0 numexpr-2.8.4 nvidia-ml-py3-7.352.0\n"
     ]
    }
   ],
   "source": [
    "!python3.8 -m pip install https://github.com/fastai/fastai1/archive/master.zip\n"
   ]
  },
  {
   "cell_type": "code",
   "execution_count": 7,
   "metadata": {},
   "outputs": [
    {
     "name": "stdout",
     "output_type": "stream",
     "text": [
      "[INFO] Downloading pretrained weights for SiamMask in /home/bikram/.cache/siammask_checkpoint/SiamMask_DAVIS.pth\n"
     ]
    },
    {
     "name": "stderr",
     "output_type": "stream",
     "text": [
      "/home/bikram/.local/lib/python3.8/site-packages/torch/cuda/__init__.py:104: UserWarning: \n",
      "NVIDIA GeForce RTX 3090 with CUDA capability sm_86 is not compatible with the current PyTorch installation.\n",
      "The current PyTorch install supports CUDA capabilities sm_37 sm_50 sm_60 sm_70 sm_75.\n",
      "If you want to use the NVIDIA GeForce RTX 3090 GPU with PyTorch, please check the instructions at https://pytorch.org/get-started/locally/\n",
      "\n",
      "  warnings.warn(incompatible_device_warn.format(device_name, capability, \" \".join(arch_list), device_name))\n"
     ]
    }
   ],
   "source": [
    "ot = SiamMask()"
   ]
  },
  {
   "cell_type": "code",
   "execution_count": 8,
   "metadata": {},
   "outputs": [],
   "source": [
    "import numpy as np\n",
    "import cv2\n",
    "import json\n",
    "cap = cv2.VideoCapture(r\"train_videos/000/Right.mp4\")\n",
    "\n",
    "\n",
    "\n",
    "annotation_path = \"../train_annotations/000.json\"\n",
    "f = open(annotation_path)\n",
    "data = json.load(f)\n",
    "data_required = data['sequence']\n",
    "\n",
    "\n",
    "\n",
    "\n",
    "\n",
    "\n",
    "initialized = False\n",
    "while(True):\n",
    "    ret, frame = cap.read()\n",
    "    if ret is False:\n",
    "        break\n",
    "    if initialized:\n",
    "        state = ot.update(frame)  ## Update the track location in the frame\n",
    "        for track in state:\n",
    "            mask = track.mask\n",
    "            frame[:, :, 2] = (mask > 0) * 255 + (mask == 0) * frame[:, :, 2]\n",
    "            cv2.polylines(frame, [np.int0(track.location).reshape((-1, 1, 2))], True, (w, 255, h), 1)\n",
    "            \n",
    "    cv2.imshow('frame',frame)\n",
    "    key = cv2.waitKey(1)\n",
    "    if key & 0xFF == ord('q'):\n",
    "        break\n",
    "    else:\n",
    "        x=int(data_required[x]['TgtXPos_LeftUp'])\n",
    "        y=int(data_required[x]['TgtYPos_LeftUp'])\n",
    "        w=int(data_required[x]['TgtWidth'])\n",
    "        h=int(data_required[x]['TgtHeight'])\n",
    "        state = ot.init(frame, [[x,y,w,h]]) ## Initialize the track in the frame\n",
    "        initialized = True\n",
    "\n",
    "cap.release()\n",
    "cv2.destroyAllWindows()"
   ]
  },
  {
   "cell_type": "code",
   "execution_count": null,
   "metadata": {},
   "outputs": [],
   "source": []
  }
 ],
 "metadata": {
  "interpreter": {
   "hash": "916dbcbb3f70747c44a77c7bcd40155683ae19c65e1c03b4aa3499c5328201f1"
  },
  "kernelspec": {
   "display_name": "Python 3.8.10 64-bit",
   "language": "python",
   "name": "python3"
  },
  "language_info": {
   "codemirror_mode": {
    "name": "ipython",
    "version": 3
   },
   "file_extension": ".py",
   "mimetype": "text/x-python",
   "name": "python",
   "nbconvert_exporter": "python",
   "pygments_lexer": "ipython3",
   "version": "3.8.10"
  },
  "orig_nbformat": 4
 },
 "nbformat": 4,
 "nbformat_minor": 2
}
